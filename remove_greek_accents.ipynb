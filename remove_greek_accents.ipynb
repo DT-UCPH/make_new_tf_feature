{
 "cells": [
  {
   "cell_type": "markdown",
   "id": "d5e1241e",
   "metadata": {},
   "source": [
    "# How to make new Greek lemma's without accents"
   ]
  },
  {
   "cell_type": "markdown",
   "id": "12420913",
   "metadata": {},
   "source": [
    "Start the Text-Fabric fire and load Greek NT dataset."
   ]
  },
  {
   "cell_type": "code",
   "execution_count": null,
   "id": "4f581782",
   "metadata": {},
   "outputs": [],
   "source": [
    "from tf.app import use\n",
    "A = use('centerblc/sblgnt', hoist=globals())"
   ]
  },
  {
   "cell_type": "markdown",
   "id": "f977cb6b",
   "metadata": {},
   "source": [
    "Now, import the unicodedata library and use it to strip the accents from Greek letters."
   ]
  },
  {
   "cell_type": "code",
   "execution_count": null,
   "id": "ccd24a23",
   "metadata": {},
   "outputs": [],
   "source": [
    "import unicodedata"
   ]
  },
  {
   "cell_type": "code",
   "execution_count": null,
   "id": "c2d9b914",
   "metadata": {},
   "outputs": [],
   "source": [
    "def remove_greek_accents(greek_str):\n",
    "    nfkd_str = unicodedata.normalize('NFKD', greek_str)\n",
    "    return u''.join([c for c in nfkd_str if not unicodedata.combining(c)])"
   ]
  },
  {
   "cell_type": "markdown",
   "id": "2165df09",
   "metadata": {},
   "source": [
    "Make a dictionary with metadata that will be visible at top of the new feature file. "
   ]
  },
  {
   "cell_type": "code",
   "execution_count": null,
   "id": "6b5dfa3e",
   "metadata": {},
   "outputs": [],
   "source": [
    "metadata = {\n",
    " 'convertedBy': 'Martijn Naaijer',\n",
    " 'description': 'greek lemma without accents and lower case',\n",
    " 'license': 'Creative Commons Attribution-NonCommercial 4.0 International License',\n",
    " 'licenseUrl': 'http://creativecommons.org/licenses/by-nc/4.0/',\n",
    " 'valueType': 'str',\n",
    " 'writtenBy': 'Text-Fabric',\n",
    "}"
   ]
  },
  {
   "cell_type": "markdown",
   "id": "e87bef96",
   "metadata": {},
   "source": [
    "Loop over all the word nodes in the dataset, get the lemma, strip the accents from it and convert all letters to lower case. Then store them in the greek_bare_lemmas dictionary. In this dict, the keys are the word nodes, and the values are the new lemma's."
   ]
  },
  {
   "cell_type": "code",
   "execution_count": null,
   "id": "65bbed0c",
   "metadata": {},
   "outputs": [],
   "source": [
    "greek_bare_lemmas = {}\n",
    "\n",
    "for wo in F.otype.s('word'):\n",
    "    lemma = F.lemma.v(wo)\n",
    "    bare_lemma = remove_greek_accents(lemma).lower()\n",
    "    greek_bare_lemmas[wo] = bare_lemma"
   ]
  },
  {
   "cell_type": "markdown",
   "id": "7686b605",
   "metadata": {},
   "source": [
    "Give the new feature a name, and connect it with the data dictionary and the metadata dictionary."
   ]
  },
  {
   "cell_type": "code",
   "execution_count": null,
   "id": "d7983d66",
   "metadata": {},
   "outputs": [],
   "source": [
    "nodedata = {'lemma_bare': greek_bare_lemmas}\n",
    "metadata = {'lemma_bare': metadata}"
   ]
  },
  {
   "cell_type": "markdown",
   "id": "dfcdba8d",
   "metadata": {},
   "source": [
    "Now we save the new feature file. If you do not specify a location, it will be saved in the folder where the presently loaded files are."
   ]
  },
  {
   "cell_type": "code",
   "execution_count": null,
   "id": "d62bbd80",
   "metadata": {},
   "outputs": [],
   "source": [
    "TF.save(nodeFeatures=nodedata, metaData=metadata)"
   ]
  },
  {
   "cell_type": "markdown",
   "id": "37a91182",
   "metadata": {},
   "source": [
    "Load the data, and print lemma's and bare_lemma's to see if the result is as expected."
   ]
  },
  {
   "cell_type": "code",
   "execution_count": null,
   "id": "c56d529e",
   "metadata": {},
   "outputs": [],
   "source": [
    "from tf.app import use\n",
    "A = use('centerblc/sblgnt', hoist=globals())"
   ]
  },
  {
   "cell_type": "code",
   "execution_count": null,
   "id": "a071ad37",
   "metadata": {},
   "outputs": [],
   "source": [
    "for w in F.otype.s('word'):\n",
    "    print(F.lemma.v(w), F.lemma_bare.v(w), F.text.v(w))"
   ]
  }
 ],
 "metadata": {
  "kernelspec": {
   "display_name": "Python 3 (ipykernel)",
   "language": "python",
   "name": "python3"
  },
  "language_info": {
   "codemirror_mode": {
    "name": "ipython",
    "version": 3
   },
   "file_extension": ".py",
   "mimetype": "text/x-python",
   "name": "python",
   "nbconvert_exporter": "python",
   "pygments_lexer": "ipython3",
   "version": "3.9.7"
  }
 },
 "nbformat": 4,
 "nbformat_minor": 5
}
